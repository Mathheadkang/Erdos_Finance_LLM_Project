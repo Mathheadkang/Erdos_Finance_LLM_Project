{
  "cells": [
    {
      "cell_type": "markdown",
      "metadata": {
        "id": "view-in-github",
        "colab_type": "text"
      },
      "source": [
        "<a href=\"https://colab.research.google.com/github/xpeng-26/Erdos_Finance_LLM_Project/blob/Jerry_project/Notebooks/train_agent.ipynb\" target=\"_parent\"><img src=\"https://colab.research.google.com/assets/colab-badge.svg\" alt=\"Open In Colab\"/></a>"
      ]
    },
    {
      "cell_type": "code",
      "execution_count": 1,
      "metadata": {
        "id": "yRFKqF_VoQfQ",
        "outputId": "2d742d75-842d-4fac-931f-2cc82b62c4d5",
        "colab": {
          "base_uri": "https://localhost:8080/"
        }
      },
      "outputs": [
        {
          "output_type": "stream",
          "name": "stdout",
          "text": [
            "Mounted at /content/drive\n"
          ]
        }
      ],
      "source": [
        "from google.colab import drive\n",
        "drive.mount('/content/drive')"
      ]
    },
    {
      "cell_type": "code",
      "execution_count": 2,
      "metadata": {
        "id": "mtoZjqcxoQfR",
        "outputId": "72f80529-58e4-427b-c323-33e39b98f55c",
        "colab": {
          "base_uri": "https://localhost:8080/"
        }
      },
      "outputs": [
        {
          "output_type": "stream",
          "name": "stdout",
          "text": [
            "Cloning into 'Erdos_Finance_LLM_Project'...\n",
            "remote: Enumerating objects: 544, done.\u001b[K\n",
            "remote: Counting objects: 100% (212/212), done.\u001b[K\n",
            "remote: Compressing objects: 100% (102/102), done.\u001b[K\n",
            "remote: Total 544 (delta 131), reused 168 (delta 98), pack-reused 332 (from 1)\u001b[K\n",
            "Receiving objects: 100% (544/544), 9.83 MiB | 38.00 MiB/s, done.\n",
            "Resolving deltas: 100% (285/285), done.\n"
          ]
        }
      ],
      "source": [
        "!git clone --single-branch --branch Jerry_project https://github.com/xpeng-26/Erdos_Finance_LLM_Project.git"
      ]
    },
    {
      "cell_type": "code",
      "source": [
        "!pip install tomli_w\n",
        "!pip install torchinfo"
      ],
      "metadata": {
        "id": "wM13947F-T8e",
        "outputId": "68ce66f1-0839-466a-fe45-34042fd118c9",
        "colab": {
          "base_uri": "https://localhost:8080/"
        }
      },
      "execution_count": 3,
      "outputs": [
        {
          "output_type": "stream",
          "name": "stdout",
          "text": [
            "Collecting tomli_w\n",
            "  Downloading tomli_w-1.2.0-py3-none-any.whl.metadata (5.7 kB)\n",
            "Downloading tomli_w-1.2.0-py3-none-any.whl (6.7 kB)\n",
            "Installing collected packages: tomli_w\n",
            "Successfully installed tomli_w-1.2.0\n",
            "Collecting torchinfo\n",
            "  Downloading torchinfo-1.8.0-py3-none-any.whl.metadata (21 kB)\n",
            "Downloading torchinfo-1.8.0-py3-none-any.whl (23 kB)\n",
            "Installing collected packages: torchinfo\n",
            "Successfully installed torchinfo-1.8.0\n"
          ]
        }
      ]
    },
    {
      "cell_type": "code",
      "source": [
        "%cd Erdos_Finance_LLM_Project/src"
      ],
      "metadata": {
        "id": "OLWGBtqfrqhu",
        "outputId": "22b26ea9-681d-4727-f760-6b42150a2de9",
        "colab": {
          "base_uri": "https://localhost:8080/"
        }
      },
      "execution_count": 4,
      "outputs": [
        {
          "output_type": "stream",
          "name": "stdout",
          "text": [
            "/content/Erdos_Finance_LLM_Project/src\n"
          ]
        }
      ]
    },
    {
      "cell_type": "code",
      "source": [
        "gpu_info = !nvidia-smi\n",
        "gpu_info = '\\n'.join(gpu_info)\n",
        "if gpu_info.find('failed') >= 0:\n",
        "  print('Not connected to a GPU')\n",
        "else:\n",
        "  print(gpu_info)"
      ],
      "metadata": {
        "id": "xaY6sjizr1WK",
        "outputId": "4a83d9c4-0dde-4419-86fd-c2f84edf751e",
        "colab": {
          "base_uri": "https://localhost:8080/"
        }
      },
      "execution_count": 5,
      "outputs": [
        {
          "output_type": "stream",
          "name": "stdout",
          "text": [
            "Tue Apr 22 05:18:10 2025       \n",
            "+-----------------------------------------------------------------------------------------+\n",
            "| NVIDIA-SMI 550.54.15              Driver Version: 550.54.15      CUDA Version: 12.4     |\n",
            "|-----------------------------------------+------------------------+----------------------+\n",
            "| GPU  Name                 Persistence-M | Bus-Id          Disp.A | Volatile Uncorr. ECC |\n",
            "| Fan  Temp   Perf          Pwr:Usage/Cap |           Memory-Usage | GPU-Util  Compute M. |\n",
            "|                                         |                        |               MIG M. |\n",
            "|=========================================+========================+======================|\n",
            "|   0  Tesla T4                       Off |   00000000:00:04.0 Off |                    0 |\n",
            "| N/A   38C    P8              9W /   70W |       0MiB /  15360MiB |      0%      Default |\n",
            "|                                         |                        |                  N/A |\n",
            "+-----------------------------------------+------------------------+----------------------+\n",
            "                                                                                         \n",
            "+-----------------------------------------------------------------------------------------+\n",
            "| Processes:                                                                              |\n",
            "|  GPU   GI   CI        PID   Type   Process name                              GPU Memory |\n",
            "|        ID   ID                                                               Usage      |\n",
            "|=========================================================================================|\n",
            "|  No running processes found                                                             |\n",
            "+-----------------------------------------------------------------------------------------+\n"
          ]
        }
      ]
    },
    {
      "cell_type": "code",
      "source": [
        "import os\n",
        "import sys\n",
        "from datetime import datetime\n",
        "import warnings\n",
        "\n",
        "# Add ../src to the path\n",
        "proj_path = os.path.abspath(os.path.join(os.getcwd(), \"../src\"))\n",
        "sys.path.insert(0, proj_path)\n",
        "\n",
        "# Import the parse config function to parse the .toml file\n",
        "from utils.config_tool import parse_config\n",
        "from utils.logging_tool import initialize_logger\n",
        "from strategy.train_trading_agent import train_trading_agent\n",
        "\n",
        "# Get the time\n",
        "timestamp = datetime.now().strftime('%Y%m%d_%H%M%S')\n",
        "\n",
        "# Load the config file\n",
        "config = parse_config(\"../config/trade_w_llm.toml\")\n",
        "# Initialize the logger\n",
        "log_file = \"{}_log_{}.txt\".format(\n",
        "\t\t\t'training_agent',\n",
        "\t\t\tstr(timestamp))\n",
        "logger = initialize_logger(log_path=os.path.join(config['info']['local_data_path'], 'logs'),log_file=log_file)\n",
        "\n",
        "with warnings.catch_warnings():\n",
        "\t\t\t\t\twarnings.filterwarnings(\"ignore\", category=UserWarning)\n",
        "\t\t\t\t\ttrain_trading_agent(config, logger)"
      ],
      "metadata": {
        "id": "qnHWF7gTrvO8",
        "outputId": "eb225cd9-63a7-4b15-ff02-cba5eac324bd",
        "colab": {
          "base_uri": "https://localhost:8080/"
        }
      },
      "execution_count": null,
      "outputs": [
        {
          "output_type": "stream",
          "name": "stderr",
          "text": [
            "INFO:utils.logging_tool:Data loaded from /content/drive/MyDrive/Erdos_2025_spring/dataset/data_raw/stock_daily_data.db, extract ticker: ['AAPL', 'MSFT', 'NVDA', 'GOOG']\n",
            "INFO:utils.logging_tool:Environment: portfolio\n",
            "INFO:utils.logging_tool:==========================================================================================\n",
            "Layer (type:depth-idx)                   Output Shape              Param #\n",
            "==========================================================================================\n",
            "MultiHeadNetwork                         [1, 11]                   --\n",
            "├─ModuleList: 1-1                        --                        --\n",
            "│    └─Linear: 2-1                       [1, 256]                  37,120\n",
            "│    └─ReLU: 2-2                         [1, 256]                  --\n",
            "│    └─Linear: 2-3                       [1, 128]                  32,896\n",
            "│    └─ReLU: 2-4                         [1, 128]                  --\n",
            "│    └─Linear: 2-5                       [1, 64]                   8,256\n",
            "│    └─ReLU: 2-6                         [1, 64]                   --\n",
            "├─Dropout: 1-2                           [1, 64]                   --\n",
            "├─ModuleList: 1-3                        --                        --\n",
            "│    └─Linear: 2-7                       [1, 11]                   715\n",
            "│    └─Linear: 2-8                       [1, 11]                   715\n",
            "│    └─Linear: 2-9                       [1, 11]                   715\n",
            "│    └─Linear: 2-10                      [1, 11]                   715\n",
            "==========================================================================================\n",
            "Total params: 81,132\n",
            "Trainable params: 81,132\n",
            "Non-trainable params: 0\n",
            "Total mult-adds (Units.MEGABYTES): 0.08\n",
            "==========================================================================================\n",
            "Input size (MB): 0.00\n",
            "Forward/backward pass size (MB): 0.00\n",
            "Params size (MB): 0.32\n",
            "Estimated Total Size (MB): 0.33\n",
            "==========================================================================================\n",
            "INFO:utils.logging_tool:Loading checkpoint from /content/drive/MyDrive/Erdos_2025_spring/dataset/models/trading_agent_portfolio_checkpoint_latest.pt...\n",
            "INFO:utils.logging_tool:Checkpoint loaded. Resuming from episode 10.\n",
            "/usr/local/lib/python3.11/dist-packages/numpy/_core/fromnumeric.py:3596: RuntimeWarning: Mean of empty slice.\n",
            "  return _methods._mean(a, axis=axis, dtype=dtype,\n",
            "/usr/local/lib/python3.11/dist-packages/numpy/_core/_methods.py:138: RuntimeWarning: invalid value encountered in scalar divide\n",
            "  ret = ret.dtype.type(ret / rcount)\n",
            "INFO:utils.logging_tool:  10 | 00:00:00 | Agent:   9.7% (  9.7%) | Market:  -7.4% ( -7.4%) | Wins: 100.0% | eps:  0.956\n",
            "INFO:utils.logging_tool:Checkpoint saved: /content/drive/MyDrive/Erdos_2025_spring/dataset/models/trading_agent_portfolio_checkpoint_20250422_051920.pt\n",
            "INFO:utils.logging_tool:Latest checkpoint saved: /content/drive/MyDrive/Erdos_2025_spring/dataset/models/trading_agent_portfolio_checkpoint_latest.pt\n",
            "INFO:utils.logging_tool:Training results saved: /content/drive/MyDrive/Erdos_2025_spring/dataset/evaluation/training_results_portfolio_20250422_051920.csv\n",
            "/usr/local/lib/python3.11/dist-packages/numpy/_core/fromnumeric.py:3596: RuntimeWarning: Mean of empty slice.\n",
            "  return _methods._mean(a, axis=axis, dtype=dtype,\n",
            "/usr/local/lib/python3.11/dist-packages/numpy/_core/_methods.py:138: RuntimeWarning: invalid value encountered in scalar divide\n",
            "  ret = ret.dtype.type(ret / rcount)\n",
            "INFO:utils.logging_tool:  20 | 00:00:04 | Agent:  23.9% ( 25.4%) | Market:  39.6% ( 44.3%) | Wins: 36.4% | eps:  0.917\n",
            "INFO:utils.logging_tool:Checkpoint saved: /content/drive/MyDrive/Erdos_2025_spring/dataset/models/trading_agent_portfolio_checkpoint_20250422_051924.pt\n",
            "INFO:utils.logging_tool:Latest checkpoint saved: /content/drive/MyDrive/Erdos_2025_spring/dataset/models/trading_agent_portfolio_checkpoint_latest.pt\n",
            "INFO:utils.logging_tool:Training results saved: /content/drive/MyDrive/Erdos_2025_spring/dataset/evaluation/training_results_portfolio_20250422_051924.csv\n"
          ]
        }
      ]
    },
    {
      "cell_type": "code",
      "source": [],
      "metadata": {
        "id": "CPdk2LABvUWV"
      },
      "execution_count": null,
      "outputs": []
    }
  ],
  "metadata": {
    "kernelspec": {
      "display_name": "Python 3",
      "name": "python3"
    },
    "language_info": {
      "codemirror_mode": {
        "name": "ipython",
        "version": 3
      },
      "file_extension": ".py",
      "mimetype": "text/x-python",
      "name": "python",
      "nbconvert_exporter": "python",
      "pygments_lexer": "ipython3",
      "version": "3.13.0"
    },
    "colab": {
      "provenance": [],
      "toc_visible": true,
      "gpuType": "T4",
      "include_colab_link": true
    },
    "accelerator": "GPU"
  },
  "nbformat": 4,
  "nbformat_minor": 0
}